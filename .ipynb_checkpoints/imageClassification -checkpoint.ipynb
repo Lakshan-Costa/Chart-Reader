{
 "cells": [
  {
   "cell_type": "code",
   "execution_count": 1,
   "id": "cfc08328",
   "metadata": {},
   "outputs": [],
   "source": [
    "import os\n",
    "#display pictures\n",
    "%matplotlib inline\n",
    "\n",
    "import matplotlib.pyplot as plt\n",
    "import matplotlib.image as mpimg\n",
    "import tensorflow as tf \n",
    "import pandas as pd\n",
    "import numpy as np \n",
    "import itertools\n",
    "import keras\n",
    "from sklearn import metrics\n",
    "from sklearn.metrics import confusion_matrix\n",
    "from keras.models import Sequential \n",
    "from keras import optimizers\n",
    "from keras.preprocessing import image\n",
    "from keras.layers import Dropout, Flatten, Dense \n",
    "from keras import applications \n",
    "from keras.utils.np_utils import to_categorical \n",
    "import matplotlib.pyplot as plt \n",
    "import matplotlib.image as mpimg\n",
    "import math \n",
    "import datetime\n",
    "import time"
   ]
  },
  {
   "cell_type": "code",
   "execution_count": 2,
   "id": "d4ba5db2",
   "metadata": {},
   "outputs": [
    {
     "ename": "AttributeError",
     "evalue": "module 'ntpath' has no attribute 'jon'",
     "output_type": "error",
     "traceback": [
      "\u001b[1;31m---------------------------------------------------------------------------\u001b[0m",
      "\u001b[1;31mAttributeError\u001b[0m                            Traceback (most recent call last)",
      "\u001b[1;32m~\\AppData\\Local\\Temp\\ipykernel_764\\3534874217.py\u001b[0m in \u001b[0;36m<module>\u001b[1;34m\u001b[0m\n\u001b[0;32m     15\u001b[0m \u001b[1;33m\u001b[0m\u001b[0m\n\u001b[0;32m     16\u001b[0m \u001b[1;31m#Pi chart images\u001b[0m\u001b[1;33m\u001b[0m\u001b[1;33m\u001b[0m\u001b[0m\n\u001b[1;32m---> 17\u001b[1;33m \u001b[0mpi_chart_dir\u001b[0m \u001b[1;33m=\u001b[0m \u001b[0mos\u001b[0m\u001b[1;33m.\u001b[0m\u001b[0mpath\u001b[0m\u001b[1;33m.\u001b[0m\u001b[0mjon\u001b[0m\u001b[1;33m(\u001b[0m\u001b[1;34m\"Images/Pi_chart\"\u001b[0m\u001b[1;33m)\u001b[0m\u001b[1;33m\u001b[0m\u001b[1;33m\u001b[0m\u001b[0m\n\u001b[0m",
      "\u001b[1;31mAttributeError\u001b[0m: module 'ntpath' has no attribute 'jon'"
     ]
    }
   ],
   "source": [
    "#Vertical barchart images\n",
    "vertical_bar_chart_dir = os.path.join(\"Images/Vertical_Bar_Chart\")\n",
    "\n",
    "#Compound vertical barchart images \n",
    "compound_vertical_bar_chart_dir = os.path.join(\"Images/Compound_Vertical_Bar_chart\")\n",
    "\n",
    "#Horizontal barchart images\n",
    "#horizontal_bar_chart_dir = os.path.join(\"Images/Horizontal_Bar_Chart\")\n",
    "\n",
    "#Line chart images\n",
    "line_chart_dir = os.path.join(\"Images/Line_chart\")\n",
    "\n",
    "#multi-line chart images\n",
    "multi_line_chart_dir = os.path.join(\"Images/Multi_Line_Chart\")\n",
    "\n",
    "#Pi chart images\n",
    "pi_chart_dir = os.path.join(\"Images/Pi_chart\")"
   ]
  },
  {
   "cell_type": "code",
   "execution_count": null,
   "id": "8095982c",
   "metadata": {},
   "outputs": [],
   "source": [
    "#print file names\n",
    "vertical_bar_chart_names = os.listdir(vertical_bar_chart_dir)\n",
    "print(vertical_bar_chart_names[:10])\n",
    "\n",
    "compound_vertical_bar_chart_names = os.listdir(compound_vertical_bar_chart_dir)\n",
    "print(compound_vertical_bar_chart_names[:10])\n",
    "\n",
    "#horizontal_bar_chart_names = os.listdir(horizontal_bar_chart_dir)\n",
    "#print(vertical_bar_chart_names[:10])\n",
    "\n",
    "line_chart_names = os.listdir(line_chart_dir)\n",
    "print(line_chart_names[:10])\n",
    "\n",
    "multi_line_chart_names = os.listdir(multi_line_chart_dir)\n",
    "print(multi_line_chart_names[:10])\n",
    "\n",
    "pi_chart_names = os.listdir(pi_chart_dir)\n",
    "print(pi_chart_names[:10])"
   ]
  },
  {
   "cell_type": "code",
   "execution_count": null,
   "id": "0dd5f1a3",
   "metadata": {},
   "outputs": [],
   "source": [
    "#total number of images\n",
    "print(\"Total number of verical bar chart images: \", len(vertical_bar_chart_names))\n",
    "print(\"Total number of Compound verical bar chart images: \", len(compound_vertical_bar_chart_names))\n",
    "#print(\"Total number of horizontal bar chart images: \", len(horizontal_bar_chart_names))\n",
    "print(\"Total number of line chart images: \", len(line_chart_names))\n",
    "print(\"Total number of Multi line chart images: \", len(multi_line_chart_names))\n",
    "print(\"Total number of Pi chart images: \", len(pi_chart_names))"
   ]
  },
  {
   "cell_type": "code",
   "execution_count": null,
   "id": "688d665f",
   "metadata": {},
   "outputs": [],
   "source": [
    "#vertical bar chart display\n",
    "img = mpimg.imread(os.path.join(vertical_bar_chart_dir, vertical_bar_chart_names[5]))\n",
    "plt.imshow(img)"
   ]
  },
  {
   "cell_type": "code",
   "execution_count": null,
   "id": "854d8d24",
   "metadata": {},
   "outputs": [],
   "source": [
    "#Horizontal bar chart display\n",
    "#img = mpimg.imread(os.path.join(horizontal_bar_chart_dir, horizontal_bar_chart_names[5]))\n",
    "#plt.imshow(img)"
   ]
  },
  {
   "cell_type": "code",
   "execution_count": null,
   "id": "7b6f7dc1",
   "metadata": {},
   "outputs": [],
   "source": [
    "#line chart\n",
    "img = mpimg.imread(os.path.join(line_chart_dir, line_chart_names[25]))\n",
    "plt.imshow(img)"
   ]
  },
  {
   "cell_type": "code",
   "execution_count": null,
   "id": "f6d939ae",
   "metadata": {},
   "outputs": [],
   "source": [
    "#model\n",
    "\n",
    "model = tf.keras.models.Sequential([\n",
    "    tf.keras.layers.Conv2D(16, (3,3), activation = 'relu', input_shape=(300,300,3)),\n",
    "    tf.keras.layers.MaxPool2D(2,2),\n",
    "    #second conv\n",
    "    tf.keras.layers.Conv2D(32, (3,3), activation='relu'),\n",
    "    tf.keras.layers.MaxPool2D(2,2),\n",
    "    #third conv\n",
    "    tf.keras.layers.Conv2D(64, (3,3), activation='relu'),\n",
    "    tf.keras.layers.MaxPool2D(2,2),\n",
    "    #fourth conv\n",
    "    tf.keras.layers.Conv2D(64, (3,3), activation='relu'),\n",
    "    tf.keras.layers.MaxPool2D(2,2),\n",
    "    #fifth conv\n",
    "    tf.keras.layers.Conv2D(64, (3,3), activation='relu'),\n",
    "    tf.keras.layers.MaxPool2D(2,2),\n",
    "    #flatten\n",
    "    tf.keras.layers.Flatten(),\n",
    "    tf.keras.layers.Dense(512, activation='relu'),\n",
    "    tf.keras.layers.Dense(5, activation='sigmoid')\n",
    "])"
   ]
  },
  {
   "cell_type": "code",
   "execution_count": null,
   "id": "7a0e4b9a",
   "metadata": {},
   "outputs": [],
   "source": [
    "model.summary()"
   ]
  },
  {
   "cell_type": "code",
   "execution_count": null,
   "id": "299c56f9",
   "metadata": {},
   "outputs": [],
   "source": [
    "# Compile the model\n",
    "model.compile(loss=\"categorical_crossentropy\", optimizer=optimizers.RMSprop(learning_rate=0.001), metrics=[\"accuracy\"])"
   ]
  },
  {
   "cell_type": "code",
   "execution_count": null,
   "id": "16557369",
   "metadata": {},
   "outputs": [],
   "source": [
    "#image generator\n",
    "\n",
    "from tensorflow.keras.preprocessing.image import ImageDataGenerator\n",
    "\n",
    "train_datagen = ImageDataGenerator(rescale=1/255)\n",
    "\n",
    "train_generator = train_datagen.flow_from_directory(\n",
    "    'Images',\n",
    "    target_size = (300,300),\n",
    "    batch_size = 256,\n",
    "    class_mode = 'categorical'\n",
    ")"
   ]
  },
  {
   "cell_type": "code",
   "execution_count": null,
   "id": "1dc7ffd8",
   "metadata": {},
   "outputs": [],
   "source": [
    "#history-model fitting\n",
    "history = model.fit(\n",
    "    train_generator,\n",
    "    steps_per_epoch = 8,\n",
    "    epochs = 10,\n",
    "    verbose =1\n",
    ")"
   ]
  },
  {
   "cell_type": "code",
   "execution_count": null,
   "id": "7988d3b5",
   "metadata": {},
   "outputs": [],
   "source": [
    "import numpy as np\n",
    "from PIL import Image\n",
    "\n",
    "# Load and preprocess the image\n",
    "img = Image.open(\"test/1195.png\")\n",
    "img = img.resize((300, 300))\n",
    "x = np.array(img)\n",
    "x = x[:, :, :3] # Remove the 4th channel\n",
    "x = x / 255. # Scale pixel values to [0, 1]\n",
    "x = np.expand_dims(x, axis=0) # Add an extra dimension\n",
    "\n",
    "# Pass the image through the model\n",
    "preds = model.predict(x)\n",
    "\n",
    "# Get the class with the highest predicted probability\n",
    "class_idx = np.argmax(preds[0])\n",
    "\n",
    "# Get the class labels from the generator\n",
    "class_labels = train_generator.class_indices\n",
    "class_labels = {v: k for k, v in class_labels.items()}\n",
    "\n",
    "# Display the predicted class\n",
    "print(f\"The image is predicted to be a {class_labels[class_idx]}\")\n"
   ]
  },
  {
   "cell_type": "code",
   "execution_count": null,
   "id": "de4d5bf1",
   "metadata": {},
   "outputs": [],
   "source": []
  },
  {
   "cell_type": "code",
   "execution_count": null,
   "id": "8a86ae93",
   "metadata": {},
   "outputs": [],
   "source": []
  }
 ],
 "metadata": {
  "kernelspec": {
   "display_name": "Python 3 (ipykernel)",
   "language": "python",
   "name": "python3"
  },
  "language_info": {
   "codemirror_mode": {
    "name": "ipython",
    "version": 3
   },
   "file_extension": ".py",
   "mimetype": "text/x-python",
   "name": "python",
   "nbconvert_exporter": "python",
   "pygments_lexer": "ipython3",
   "version": "3.9.13"
  }
 },
 "nbformat": 4,
 "nbformat_minor": 5
}
