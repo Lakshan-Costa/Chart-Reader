{
 "cells": [
  {
   "cell_type": "code",
   "execution_count": null,
   "id": "d2763e92",
   "metadata": {},
   "outputs": [
    {
     "name": "stdout",
     "output_type": "stream",
     "text": [
      "Requirement already satisfied: paddleocr>=2.0.1 in c:\\users\\lakshan\\anaconda3\\lib\\site-packages (2.6.1.2)\n",
      "Requirement already satisfied: scikit-image in c:\\users\\lakshan\\anaconda3\\lib\\site-packages (from paddleocr>=2.0.1) (0.19.2)\n",
      "Requirement already satisfied: tqdm in c:\\users\\lakshan\\anaconda3\\lib\\site-packages (from paddleocr>=2.0.1) (4.64.1)\n",
      "Requirement already satisfied: lxml in c:\\users\\lakshan\\anaconda3\\lib\\site-packages (from paddleocr>=2.0.1) (4.9.1)\n",
      "Requirement already satisfied: fire>=0.3.0 in c:\\users\\lakshan\\anaconda3\\lib\\site-packages (from paddleocr>=2.0.1) (0.5.0)\n",
      "Requirement already satisfied: openpyxl in c:\\users\\lakshan\\anaconda3\\lib\\site-packages (from paddleocr>=2.0.1) (3.0.10)\n",
      "Requirement already satisfied: rapidfuzz in c:\\users\\lakshan\\anaconda3\\lib\\site-packages (from paddleocr>=2.0.1) (2.13.7)\n",
      "Requirement already satisfied: PyMuPDF<1.21.0 in c:\\users\\lakshan\\anaconda3\\lib\\site-packages (from paddleocr>=2.0.1) (1.20.2)\n",
      "Requirement already satisfied: premailer in c:\\users\\lakshan\\anaconda3\\lib\\site-packages (from paddleocr>=2.0.1) (3.10.0)\n",
      "Requirement already satisfied: imgaug in c:\\users\\lakshan\\anaconda3\\lib\\site-packages (from paddleocr>=2.0.1) (0.4.0)\n",
      "Requirement already satisfied: pdf2docx in c:\\users\\lakshan\\anaconda3\\lib\\site-packages (from paddleocr>=2.0.1) (0.5.6)\n",
      "Requirement already satisfied: shapely in c:\\users\\lakshan\\anaconda3\\lib\\site-packages (from paddleocr>=2.0.1) (2.0.0)\n",
      "Requirement already satisfied: pyclipper in c:\\users\\lakshan\\anaconda3\\lib\\site-packages (from paddleocr>=2.0.1) (1.3.0.post4)\n",
      "Requirement already satisfied: lmdb in c:\\users\\lakshan\\anaconda3\\lib\\site-packages (from paddleocr>=2.0.1) (1.4.0)\n",
      "Requirement already satisfied: python-docx in c:\\users\\lakshan\\anaconda3\\lib\\site-packages (from paddleocr>=2.0.1) (0.8.11)\n",
      "Requirement already satisfied: numpy in c:\\users\\lakshan\\anaconda3\\lib\\site-packages (from paddleocr>=2.0.1) (1.21.5)\n",
      "Requirement already satisfied: attrdict in c:\\users\\lakshan\\anaconda3\\lib\\site-packages (from paddleocr>=2.0.1) (2.0.1)\n",
      "Requirement already satisfied: beautifulsoup4 in c:\\users\\lakshan\\anaconda3\\lib\\site-packages (from paddleocr>=2.0.1) (4.11.1)\n",
      "Requirement already satisfied: opencv-python in c:\\users\\lakshan\\anaconda3\\lib\\site-packages (from paddleocr>=2.0.1) (4.7.0.68)\n",
      "Requirement already satisfied: visualdl in c:\\users\\lakshan\\anaconda3\\lib\\site-packages (from paddleocr>=2.0.1) (2.4.2)\n",
      "Requirement already satisfied: fonttools>=4.24.0 in c:\\users\\lakshan\\anaconda3\\lib\\site-packages (from paddleocr>=2.0.1) (4.25.0)\n",
      "Requirement already satisfied: opencv-contrib-python in c:\\users\\lakshan\\anaconda3\\lib\\site-packages (from paddleocr>=2.0.1) (4.7.0.68)\n",
      "Requirement already satisfied: cython in c:\\users\\lakshan\\anaconda3\\lib\\site-packages (from paddleocr>=2.0.1) (0.29.32)\n",
      "Requirement already satisfied: six in c:\\users\\lakshan\\anaconda3\\lib\\site-packages (from fire>=0.3.0->paddleocr>=2.0.1) (1.16.0)\n",
      "Requirement already satisfied: termcolor in c:\\users\\lakshan\\anaconda3\\lib\\site-packages (from fire>=0.3.0->paddleocr>=2.0.1) (2.1.1)\n",
      "Requirement already satisfied: soupsieve>1.2 in c:\\users\\lakshan\\anaconda3\\lib\\site-packages (from beautifulsoup4->paddleocr>=2.0.1) (2.3.1)\n",
      "Requirement already satisfied: Pillow in c:\\users\\lakshan\\anaconda3\\lib\\site-packages (from imgaug->paddleocr>=2.0.1) (9.2.0)\n",
      "Requirement already satisfied: imageio in c:\\users\\lakshan\\anaconda3\\lib\\site-packages (from imgaug->paddleocr>=2.0.1) (2.19.3)\n",
      "Requirement already satisfied: scipy in c:\\users\\lakshan\\anaconda3\\lib\\site-packages (from imgaug->paddleocr>=2.0.1) (1.9.1)\n",
      "Requirement already satisfied: matplotlib in c:\\users\\lakshan\\anaconda3\\lib\\site-packages (from imgaug->paddleocr>=2.0.1) (3.5.2)\n",
      "Requirement already satisfied: PyWavelets>=1.1.1 in c:\\users\\lakshan\\anaconda3\\lib\\site-packages (from scikit-image->paddleocr>=2.0.1) (1.3.0)\n",
      "Requirement already satisfied: networkx>=2.2 in c:\\users\\lakshan\\anaconda3\\lib\\site-packages (from scikit-image->paddleocr>=2.0.1) (2.8.4)\n",
      "Requirement already satisfied: tifffile>=2019.7.26 in c:\\users\\lakshan\\anaconda3\\lib\\site-packages (from scikit-image->paddleocr>=2.0.1) (2021.7.2)\n",
      "Requirement already satisfied: packaging>=20.0 in c:\\users\\lakshan\\anaconda3\\lib\\site-packages (from scikit-image->paddleocr>=2.0.1) (21.3)\n",
      "Requirement already satisfied: et_xmlfile in c:\\users\\lakshan\\anaconda3\\lib\\site-packages (from openpyxl->paddleocr>=2.0.1) (1.1.0)\n",
      "Requirement already satisfied: cssselect in c:\\users\\lakshan\\anaconda3\\lib\\site-packages (from premailer->paddleocr>=2.0.1) (1.1.0)\n",
      "Requirement already satisfied: cssutils in c:\\users\\lakshan\\anaconda3\\lib\\site-packages (from premailer->paddleocr>=2.0.1) (2.6.0)\n",
      "Requirement already satisfied: requests in c:\\users\\lakshan\\anaconda3\\lib\\site-packages (from premailer->paddleocr>=2.0.1) (2.28.1)\n",
      "Requirement already satisfied: cachetools in c:\\users\\lakshan\\anaconda3\\lib\\site-packages (from premailer->paddleocr>=2.0.1) (5.2.0)\n",
      "Requirement already satisfied: colorama in c:\\users\\lakshan\\anaconda3\\lib\\site-packages (from tqdm->paddleocr>=2.0.1) (0.4.5)\n",
      "Requirement already satisfied: protobuf>=3.11.0 in c:\\users\\lakshan\\anaconda3\\lib\\site-packages (from visualdl->paddleocr>=2.0.1) (3.19.6)\n",
      "Requirement already satisfied: Flask-Babel>=1.0.0 in c:\\users\\lakshan\\anaconda3\\lib\\site-packages (from visualdl->paddleocr>=2.0.1) (2.0.0)\n",
      "Requirement already satisfied: flask>=1.1.1 in c:\\users\\lakshan\\anaconda3\\lib\\site-packages (from visualdl->paddleocr>=2.0.1) (1.1.2)\n",
      "Requirement already satisfied: bce-python-sdk in c:\\users\\lakshan\\anaconda3\\lib\\site-packages (from visualdl->paddleocr>=2.0.1) (0.8.74)\n",
      "Requirement already satisfied: pandas in c:\\users\\lakshan\\anaconda3\\lib\\site-packages (from visualdl->paddleocr>=2.0.1) (1.4.4)\n",
      "Requirement already satisfied: multiprocess in c:\\users\\lakshan\\anaconda3\\lib\\site-packages (from visualdl->paddleocr>=2.0.1) (0.70.14)\n",
      "Requirement already satisfied: Jinja2>=2.10.1 in c:\\users\\lakshan\\anaconda3\\lib\\site-packages (from flask>=1.1.1->visualdl->paddleocr>=2.0.1) (2.11.3)\n",
      "Requirement already satisfied: Werkzeug>=0.15 in c:\\users\\lakshan\\anaconda3\\lib\\site-packages (from flask>=1.1.1->visualdl->paddleocr>=2.0.1) (2.0.3)\n",
      "Requirement already satisfied: click>=5.1 in c:\\users\\lakshan\\anaconda3\\lib\\site-packages (from flask>=1.1.1->visualdl->paddleocr>=2.0.1) (8.0.4)\n",
      "Requirement already satisfied: itsdangerous>=0.24 in c:\\users\\lakshan\\anaconda3\\lib\\site-packages (from flask>=1.1.1->visualdl->paddleocr>=2.0.1) (2.0.1)\n",
      "Requirement already satisfied: Babel>=2.3 in c:\\users\\lakshan\\anaconda3\\lib\\site-packages (from Flask-Babel>=1.0.0->visualdl->paddleocr>=2.0.1) (2.9.1)\n",
      "Requirement already satisfied: pytz in c:\\users\\lakshan\\anaconda3\\lib\\site-packages (from Flask-Babel>=1.0.0->visualdl->paddleocr>=2.0.1) (2022.1)\n",
      "Requirement already satisfied: pyparsing!=3.0.5,>=2.0.2 in c:\\users\\lakshan\\anaconda3\\lib\\site-packages (from packaging>=20.0->scikit-image->paddleocr>=2.0.1) (3.0.9)\n",
      "Requirement already satisfied: pycryptodome>=3.8.0 in c:\\users\\lakshan\\anaconda3\\lib\\site-packages (from bce-python-sdk->visualdl->paddleocr>=2.0.1) (3.16.0)\n",
      "Requirement already satisfied: future>=0.6.0 in c:\\users\\lakshan\\anaconda3\\lib\\site-packages (from bce-python-sdk->visualdl->paddleocr>=2.0.1) (0.18.2)\n",
      "Requirement already satisfied: python-dateutil>=2.7 in c:\\users\\lakshan\\anaconda3\\lib\\site-packages (from matplotlib->imgaug->paddleocr>=2.0.1) (2.8.2)\n",
      "Requirement already satisfied: kiwisolver>=1.0.1 in c:\\users\\lakshan\\anaconda3\\lib\\site-packages (from matplotlib->imgaug->paddleocr>=2.0.1) (1.4.2)\n",
      "Requirement already satisfied: cycler>=0.10 in c:\\users\\lakshan\\anaconda3\\lib\\site-packages (from matplotlib->imgaug->paddleocr>=2.0.1) (0.11.0)\n",
      "Requirement already satisfied: dill>=0.3.6 in c:\\users\\lakshan\\anaconda3\\lib\\site-packages (from multiprocess->visualdl->paddleocr>=2.0.1) (0.3.6)\n",
      "Requirement already satisfied: certifi>=2017.4.17 in c:\\users\\lakshan\\anaconda3\\lib\\site-packages (from requests->premailer->paddleocr>=2.0.1) (2022.9.14)\n",
      "Requirement already satisfied: urllib3<1.27,>=1.21.1 in c:\\users\\lakshan\\anaconda3\\lib\\site-packages (from requests->premailer->paddleocr>=2.0.1) (1.26.11)\n",
      "Requirement already satisfied: idna<4,>=2.5 in c:\\users\\lakshan\\anaconda3\\lib\\site-packages (from requests->premailer->paddleocr>=2.0.1) (3.3)\n",
      "Requirement already satisfied: charset-normalizer<3,>=2 in c:\\users\\lakshan\\anaconda3\\lib\\site-packages (from requests->premailer->paddleocr>=2.0.1) (2.0.4)\n",
      "Requirement already satisfied: MarkupSafe>=0.23 in c:\\users\\lakshan\\anaconda3\\lib\\site-packages (from Jinja2>=2.10.1->flask>=1.1.1->visualdl->paddleocr>=2.0.1) (2.0.1)\n"
     ]
    }
   ],
   "source": [
    "!pip install \"paddleocr>=2.0.1\"\n",
    "!pip install paddlepaddle"
   ]
  },
  {
   "cell_type": "code",
   "execution_count": null,
   "id": "6b3f2d6d",
   "metadata": {},
   "outputs": [],
   "source": [
    "from paddleocr import PaddleOCR,draw_ocr\n",
    "# Paddleocr supports Chinese, English, French, German, Korean and Japanese.\n",
    "# You can set the parameter `lang` as `ch`, `en`, `french`, `german`, `korean`, `japan`\n",
    "# to switch the language model in order.\n",
    "ocr = PaddleOCR(use_angle_cls=True, lang='en') # need to run only once to download and load model into memory\n",
    "img_path = 'test/1420.png'\n",
    "result = ocr.ocr(img_path, cls=True)\n",
    "for idx in range(len(result)):\n",
    "    res = result[idx]\n",
    "    for line in res:\n",
    "        print(line)\n",
    "\n",
    "# draw result\n",
    "from PIL import Image\n",
    "result = result[0]\n",
    "image = Image.open(img_path).convert('RGB')\n",
    "boxes = [line[0] for line in result]\n",
    "txts = [line[1][0] for line in result]\n",
    "scores = [line[1][1] for line in result]\n",
    "im_show = draw_ocr(image, boxes, txts, scores, font_path='/path/to/PaddleOCR/doc/fonts/simfang.ttf')\n",
    "im_show = Image.fromarray(im_show)\n",
    "im_show.save('result.jpg')\n",
    "\n"
   ]
  },
  {
   "cell_type": "code",
   "execution_count": null,
   "id": "439c61a4",
   "metadata": {},
   "outputs": [],
   "source": []
  },
  {
   "cell_type": "code",
   "execution_count": null,
   "id": "a808df1f",
   "metadata": {},
   "outputs": [],
   "source": []
  }
 ],
 "metadata": {
  "kernelspec": {
   "display_name": "Python 3 (ipykernel)",
   "language": "python",
   "name": "python3"
  },
  "language_info": {
   "codemirror_mode": {
    "name": "ipython",
    "version": 3
   },
   "file_extension": ".py",
   "mimetype": "text/x-python",
   "name": "python",
   "nbconvert_exporter": "python",
   "pygments_lexer": "ipython3",
   "version": "3.9.13"
  }
 },
 "nbformat": 4,
 "nbformat_minor": 5
}
